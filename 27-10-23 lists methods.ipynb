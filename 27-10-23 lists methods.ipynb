{
 "cells": [
  {
   "cell_type": "markdown",
   "id": "24cbfef6",
   "metadata": {},
   "source": [
    "\n",
    "   index() method of list class returns the index of first occurence of the given below.\n",
    "    \n",
    "    syntax:list.index(obj)\n",
    "        Return value:\n",
    "            The index()method returns an integer,representing the index of the first occurence of the object."
   ]
  },
  {
   "cell_type": "markdown",
   "id": "541a572c",
   "metadata": {},
   "source": []
  },
  {
   "cell_type": "code",
   "execution_count": 6,
   "id": "bf71696e",
   "metadata": {},
   "outputs": [
    {
     "name": "stdout",
     "output_type": "stream",
     "text": [
      "Help on method_descriptor:\n",
      "\n",
      "index(self, value, start=0, stop=9223372036854775807, /)\n",
      "    Return first index of value.\n",
      "    \n",
      "    Raises ValueError if the value is not present.\n",
      "\n"
     ]
    }
   ],
   "source": [
    "help(list.index)"
   ]
  },
  {
   "cell_type": "code",
   "execution_count": 7,
   "id": "4fca16cb",
   "metadata": {},
   "outputs": [
    {
     "name": "stdout",
     "output_type": "stream",
     "text": [
      "2\n"
     ]
    }
   ],
   "source": [
    "x =[1,12,14,-5,2.6,'archana']\n",
    "y=x.index(14)\n",
    "print(y)"
   ]
  },
  {
   "cell_type": "markdown",
   "id": "1cdb4374",
   "metadata": {},
   "source": [
    "count():\n",
    " The count()method in list class returns the numbers of times a giveb objects occurs in the list.\n",
    " syntax= list.count(obj)\n",
    " Return value: Numbers of occurence of the object. The count() methods returns an integer."
   ]
  },
  {
   "cell_type": "code",
   "execution_count": 8,
   "id": "9bf0a285",
   "metadata": {},
   "outputs": [
    {
     "name": "stdout",
     "output_type": "stream",
     "text": [
      "Help on method_descriptor:\n",
      "\n",
      "count(self, value, /)\n",
      "    Return number of occurrences of value.\n",
      "\n"
     ]
    }
   ],
   "source": [
    "help(list.count)"
   ]
  },
  {
   "cell_type": "code",
   "execution_count": 11,
   "id": "830d2bf2",
   "metadata": {},
   "outputs": [
    {
     "name": "stdout",
     "output_type": "stream",
     "text": [
      "2\n"
     ]
    }
   ],
   "source": [
    "x=[5,2,5,8,10,10]\n",
    "y=x.count(5)\n",
    "print(y)"
   ]
  },
  {
   "cell_type": "markdown",
   "id": "a5602583",
   "metadata": {},
   "source": [
    "Reverse()\n",
    " the reverse() method in list class reverse the order of items in the list.the item in last index is relocated to0th index,and one orginally at index 0 goes to the last position.\n",
    "  syntax= list.reverse\n",
    "   return value\n",
    "    this method doesnot return anything as the order is reversed in place.\n",
    "    \n",
    "    "
   ]
  },
  {
   "cell_type": "code",
   "execution_count": 12,
   "id": "263e7734",
   "metadata": {},
   "outputs": [
    {
     "name": "stdout",
     "output_type": "stream",
     "text": [
      "Help on method_descriptor:\n",
      "\n",
      "reverse(self, /)\n",
      "    Reverse *IN PLACE*.\n",
      "\n"
     ]
    }
   ],
   "source": [
    "help(list.reverse)"
   ]
  },
  {
   "cell_type": "code",
   "execution_count": 14,
   "id": "f4c939df",
   "metadata": {},
   "outputs": [
    {
     "name": "stdout",
     "output_type": "stream",
     "text": [
      "[99, 88, 99, 45]\n",
      "[45, 99, 88, 99]\n"
     ]
    }
   ],
   "source": [
    "x=[99,88,99,45]\n",
    "print(x)\n",
    "x.reverse()\n",
    "print(x)"
   ]
  },
  {
   "cell_type": "markdown",
   "id": "5411f03e",
   "metadata": {},
   "source": [
    "clear()\n",
    " The clear() method in list class clears the content of the given list.\n",
    " syntax list.clear()\n",
    " "
   ]
  },
  {
   "cell_type": "code",
   "execution_count": 15,
   "id": "25c8a7d4",
   "metadata": {},
   "outputs": [
    {
     "name": "stdout",
     "output_type": "stream",
     "text": [
      "Help on method_descriptor:\n",
      "\n",
      "clear(self, /)\n",
      "    Remove all items from list.\n",
      "\n"
     ]
    }
   ],
   "source": [
    "help(list.clear)"
   ]
  },
  {
   "cell_type": "code",
   "execution_count": 18,
   "id": "98b8b223",
   "metadata": {},
   "outputs": [
    {
     "name": "stdout",
     "output_type": "stream",
     "text": [
      "[]\n"
     ]
    }
   ],
   "source": [
    "x=[1,12,42,-2]\n",
    "x.clear()\n",
    "print(x)"
   ]
  },
  {
   "cell_type": "markdown",
   "id": "949c13e8",
   "metadata": {},
   "source": [
    "copy()\n",
    "  the copy() method returns a shallow copy of a list which returns a new list without modifying the orginal lists.\n",
    "  syntax(list.copy)\n",
    "  returns: returns a shallow copy of a list a shallow copy means any modification in the new list wont be reflected in the orginal list.\n",
    "  "
   ]
  },
  {
   "cell_type": "code",
   "execution_count": 20,
   "id": "b2e78b87",
   "metadata": {},
   "outputs": [
    {
     "name": "stdout",
     "output_type": "stream",
     "text": [
      "Help on method_descriptor:\n",
      "\n",
      "copy(self, /)\n",
      "    Return a shallow copy of the list.\n",
      "\n"
     ]
    }
   ],
   "source": [
    "help(list.copy)"
   ]
  },
  {
   "cell_type": "code",
   "execution_count": 23,
   "id": "9ff89051",
   "metadata": {},
   "outputs": [
    {
     "ename": "SyntaxError",
     "evalue": "invalid syntax. Perhaps you forgot a comma? (2919396642.py, line 3)",
     "output_type": "error",
     "traceback": [
      "\u001b[1;36m  Cell \u001b[1;32mIn[23], line 3\u001b[1;36m\u001b[0m\n\u001b[1;33m    print(a, hex(id(a)),hex(id(a[1])\u001b[0m\n\u001b[1;37m                            ^\u001b[0m\n\u001b[1;31mSyntaxError\u001b[0m\u001b[1;31m:\u001b[0m invalid syntax. Perhaps you forgot a comma?\n"
     ]
    }
   ],
   "source": [
    "a=[1,[4,5,6]]\n",
    "b=deepcopy(a)\n",
    "print(a, hex(id(a)),hex(id(a[1])\n",
    "print(b, hex(id(b))),hex(id(b[1])                       \n",
    "                       "
   ]
  },
  {
   "cell_type": "markdown",
   "id": "4983450a",
   "metadata": {},
   "source": [
    "Tuples in python\n",
    " . Tuples are used to store multiple iteams in a single variable.\n",
    " . A tuple is an immutable object which means it cannot be changed and we use it to represent fixed collection of items.\n",
    " . tuples are hetrogenous."
   ]
  },
  {
   "cell_type": "code",
   "execution_count": 24,
   "id": "296dc4c3",
   "metadata": {},
   "outputs": [
    {
     "data": {
      "text/plain": [
       "'archana'"
      ]
     },
     "execution_count": 24,
     "metadata": {},
     "output_type": "execute_result"
    }
   ],
   "source": [
    "a=('archana')\n",
    "a"
   ]
  },
  {
   "cell_type": "code",
   "execution_count": 26,
   "id": "e76ecb6e",
   "metadata": {},
   "outputs": [
    {
     "data": {
      "text/plain": [
       "(0,)"
      ]
     },
     "execution_count": 26,
     "metadata": {},
     "output_type": "execute_result"
    }
   ],
   "source": [
    "a=tuple(range(1))\n",
    "a"
   ]
  },
  {
   "cell_type": "markdown",
   "id": "def490f0",
   "metadata": {},
   "source": [
    "empty tuple()= A tuple in which we does not have any element.\n"
   ]
  },
  {
   "cell_type": "code",
   "execution_count": 27,
   "id": "b4961173",
   "metadata": {},
   "outputs": [
    {
     "data": {
      "text/plain": [
       "()"
      ]
     },
     "execution_count": 27,
     "metadata": {},
     "output_type": "execute_result"
    }
   ],
   "source": [
    "y=()\n",
    "y"
   ]
  },
  {
   "cell_type": "code",
   "execution_count": 29,
   "id": "1a81ea1a",
   "metadata": {},
   "outputs": [
    {
     "data": {
      "text/plain": [
       "((), 0, tuple)"
      ]
     },
     "execution_count": 29,
     "metadata": {},
     "output_type": "execute_result"
    }
   ],
   "source": [
    "y,len(y),type(y)"
   ]
  },
  {
   "cell_type": "code",
   "execution_count": 30,
   "id": "27d406fd",
   "metadata": {},
   "outputs": [
    {
     "data": {
      "text/plain": [
       "('a', 'r', 'c', 'h', 'a', 'n', 'a')"
      ]
     },
     "execution_count": 30,
     "metadata": {},
     "output_type": "execute_result"
    }
   ],
   "source": [
    "c=tuple('archana')\n",
    "c"
   ]
  },
  {
   "cell_type": "code",
   "execution_count": null,
   "id": "6c2d0161",
   "metadata": {},
   "outputs": [],
   "source": []
  }
 ],
 "metadata": {
  "kernelspec": {
   "display_name": "Python 3 (ipykernel)",
   "language": "python",
   "name": "python3"
  },
  "language_info": {
   "codemirror_mode": {
    "name": "ipython",
    "version": 3
   },
   "file_extension": ".py",
   "mimetype": "text/x-python",
   "name": "python",
   "nbconvert_exporter": "python",
   "pygments_lexer": "ipython3",
   "version": "3.11.5"
  }
 },
 "nbformat": 4,
 "nbformat_minor": 5
}
